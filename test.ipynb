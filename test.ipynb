{
 "cells": [
  {
   "cell_type": "code",
   "execution_count": 1,
   "metadata": {},
   "outputs": [
    {
     "ename": "SyntaxError",
     "evalue": "invalid syntax (Temp/ipykernel_25700/2001800226.py, line 4)",
     "output_type": "error",
     "traceback": [
      "\u001b[1;36m  File \u001b[1;32m\"C:\\Users\\shaoa\\AppData\\Local\\Temp/ipykernel_25700/2001800226.py\"\u001b[1;36m, line \u001b[1;32m4\u001b[0m\n\u001b[1;33m    def_init_(self,input_length,weight=None,bias=None):\u001b[0m\n\u001b[1;37m                                                       ^\u001b[0m\n\u001b[1;31mSyntaxError\u001b[0m\u001b[1;31m:\u001b[0m invalid syntax\n"
     ]
    }
   ],
   "source": [
    "import numpy as numpy\n",
    "\n",
    "class Perceptron:\n",
    "    def_init_(self,input_length,weight=None,bias=None):\n",
    "        if weights is None:\n",
    "            self.weights=np.ones(input_length)*1\n",
    "        else:\n",
    "            self.weights=weights\n",
    "        if bias is none:\n",
    "            self.bias=-1\n",
    "        else:\n",
    "            self.bias=bias\n",
    "\n",
    "        @staticmethod\n",
    "        def activation_function(x):\n",
    "            if x > 0:\n",
    "                return 1\n",
    "            return 0\n",
    "\n",
    "            def_call_(self,input_data):\n",
    "                weighted_input=self.weights * input_data\n",
    "                weighted_sum=weighted_input.sum()+self.bias\n",
    "                return Perceptron.activation_function(weighted_sum)\n"
   ]
  },
  {
   "cell_type": "code",
   "execution_count": 2,
   "metadata": {},
   "outputs": [
    {
     "ename": "IndentationError",
     "evalue": "unexpected indent (Temp/ipykernel_25700/4143218605.py, line 2)",
     "output_type": "error",
     "traceback": [
      "\u001b[1;36m  File \u001b[1;32m\"C:\\Users\\shaoa\\AppData\\Local\\Temp/ipykernel_25700/4143218605.py\"\u001b[1;36m, line \u001b[1;32m2\u001b[0m\n\u001b[1;33m    bias = -0.5\u001b[0m\n\u001b[1;37m    ^\u001b[0m\n\u001b[1;31mIndentationError\u001b[0m\u001b[1;31m:\u001b[0m unexpected indent\n"
     ]
    }
   ],
   "source": [
    "weight = np.array({1,1})\n",
    "    bias = -0.5\n",
    "    OR_Gate = Perceptron(2,weights,bias)\n",
    "\n",
    "    input_data=[np.array([0,0]),np.array([0,1]),\n",
    "                np.array([1,0]),np.array([1,1])]\n",
    "    for x in input_data:\n",
    "        out = OR_Gate(np.array(x))      \n",
    "        print(x,out)      \n"
   ]
  }
 ],
 "metadata": {
  "interpreter": {
   "hash": "b3ba2566441a7c06988d0923437866b63cedc61552a5af99d1f4fb67d367b25f"
  },
  "kernelspec": {
   "display_name": "Python 3.8.8 64-bit ('base': conda)",
   "name": "python3"
  },
  "language_info": {
   "codemirror_mode": {
    "name": "ipython",
    "version": 3
   },
   "file_extension": ".py",
   "mimetype": "text/x-python",
   "name": "python",
   "nbconvert_exporter": "python",
   "pygments_lexer": "ipython3",
   "version": "3.8.8"
  },
  "orig_nbformat": 4
 },
 "nbformat": 4,
 "nbformat_minor": 2
}
