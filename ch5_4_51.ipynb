{
 "cells": [
  {
   "cell_type": "code",
   "execution_count": 3,
   "metadata": {},
   "outputs": [
    {
     "ename": "SyntaxError",
     "evalue": "invalid syntax (Temp/ipykernel_25740/2769453133.py, line 9)",
     "output_type": "error",
     "traceback": [
      "\u001b[1;36m  File \u001b[1;32m\"C:\\Users\\shaoa\\AppData\\Local\\Temp/ipykernel_25740/2769453133.py\"\u001b[1;36m, line \u001b[1;32m9\u001b[0m\n\u001b[1;33m    pre_w=wreturn np.array(w_gd)\u001b[0m\n\u001b[1;37m                   ^\u001b[0m\n\u001b[1;31mSyntaxError\u001b[0m\u001b[1;31m:\u001b[0m invalid syntax\n"
     ]
    }
   ],
   "source": [
    "def gradient_descent(w_start,df,lr,epochs):\n",
    "    w_gd=[]\n",
    "    w_gd.append(w_start)\n",
    "    pre_w=w_start\n",
    "\n",
    "    for i in range(epochs):\n",
    "        w=pre_w-lr*df(pre_w)\n",
    "        w_gd.append(w)\n",
    "        pre_w=wreturn np.array(w_gd)"
   ]
  }
 ],
 "metadata": {
  "interpreter": {
   "hash": "57baa5815c940fdaff4d14510622de9616cae602444507ba5d0b6727c008cbd6"
  },
  "kernelspec": {
   "display_name": "Python 3.7.8 64-bit",
   "language": "python",
   "name": "python3"
  },
  "language_info": {
   "codemirror_mode": {
    "name": "ipython",
    "version": 3
   },
   "file_extension": ".py",
   "mimetype": "text/x-python",
   "name": "python",
   "nbconvert_exporter": "python",
   "pygments_lexer": "ipython3",
   "version": "3.7.8"
  },
  "orig_nbformat": 4
 },
 "nbformat": 4,
 "nbformat_minor": 2
}
